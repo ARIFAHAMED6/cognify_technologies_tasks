{
 "cells": [
  {
   "cell_type": "code",
   "execution_count": null,
   "id": "f21b680a-0b30-48dc-b62d-d7d6e62e971d",
   "metadata": {},
   "outputs": [],
   "source": [
    "\n",
    "'''Task 4: Build a temperature \n",
    "converter program.\n",
    "\n",
    " Objective: Enable users to input temperatures\n",
    " and choose the conversion direction between\n",
    " Fahrenheit and Celsius.\n",
    " Steps:\n",
    " \n",
    " 1. Design a program to accept temperature input.\n",
    " 2. Implement logic for temperature conversion.\n",
    " 3. Allow users to choose the conversiondirection.\n",
    " 4.Test the program with different input values\n",
    "'''"
   ]
  },
  {
   "cell_type": "code",
   "execution_count": 2,
   "id": "5a9e35f3-b630-4be7-bbb6-b090da461e85",
   "metadata": {},
   "outputs": [
    {
     "name": "stdout",
     "output_type": "stream",
     "text": [
      "Welcome to Temperature Converter\n",
      "1. Convert Celsius to Fahrenheit\n",
      "2. Convert Fahrenheit to Celsius\n"
     ]
    },
    {
     "name": "stdin",
     "output_type": "stream",
     "text": [
      "Enter your choice (1 or 2):  2\n",
      "Enter temperature in Fahrenheit:  72\n"
     ]
    },
    {
     "name": "stdout",
     "output_type": "stream",
     "text": [
      "72.00°F = 22.22°C\n"
     ]
    }
   ],
   "source": [
    "def celsius_to_fahrenheit(celsius):\n",
    "    return (celsius * 9/5) + 32    # it will convert celsius to fahrenheit\n",
    "\n",
    "def fahrenheit_to_celsius(fahrenheit):\n",
    "    return (fahrenheit - 32) * 5/9 # it will convert fahrenheit to celsius\n",
    "\n",
    "def main():\n",
    "    print(\"Welcome to Temperature Converter\")\n",
    "    print(\"1. Convert Celsius to Fahrenheit\") # if we choose 1 in input then it will convert celsius to fahrenheit\n",
    "    print(\"2. Convert Fahrenheit to Celsius\")  # if we choose 2 in input then it will convert fahrenheit to celsius\n",
    "    \n",
    "    choice = input(\"Enter your choice (1 or 2): \")   # i choose 2 as example\n",
    "    \n",
    "    if choice == '1':\n",
    "        celsius = float(input(\"Enter temperature in Celsius: \"))\n",
    "        fahrenheit = celsius_to_fahrenheit(celsius)\n",
    "        print(f\"{celsius:.2f}°C = {fahrenheit:.2f}°F\")\n",
    "    \n",
    "    elif choice == '2':\n",
    "        fahrenheit = float(input(\"Enter temperature in Fahrenheit: \"))\n",
    "        celsius = fahrenheit_to_celsius(fahrenheit)\n",
    "        print(f\"{fahrenheit:.2f}°F = {celsius:.2f}°C\")\n",
    "    \n",
    "    else:\n",
    "        print(\"Invalid choice. Please select 1 or 2.\")\n",
    "\n",
    "# main is used to run the program\n",
    "main()\n"
   ]
  },
  {
   "cell_type": "code",
   "execution_count": null,
   "id": "6e20c1e4-ae71-40b3-8885-16bba8789a26",
   "metadata": {},
   "outputs": [],
   "source": []
  },
  {
   "cell_type": "code",
   "execution_count": null,
   "id": "2684929d-7af8-482c-ad4f-b54c61f04355",
   "metadata": {},
   "outputs": [],
   "source": []
  },
  {
   "cell_type": "code",
   "execution_count": null,
   "id": "0837b57c-269e-492a-8969-bd8e95a6668d",
   "metadata": {},
   "outputs": [],
   "source": []
  }
 ],
 "metadata": {
  "kernelspec": {
   "display_name": "Python 3 (ipykernel)",
   "language": "python",
   "name": "python3"
  },
  "language_info": {
   "codemirror_mode": {
    "name": "ipython",
    "version": 3
   },
   "file_extension": ".py",
   "mimetype": "text/x-python",
   "name": "python",
   "nbconvert_exporter": "python",
   "pygments_lexer": "ipython3",
   "version": "3.12.7"
  }
 },
 "nbformat": 4,
 "nbformat_minor": 5
}
