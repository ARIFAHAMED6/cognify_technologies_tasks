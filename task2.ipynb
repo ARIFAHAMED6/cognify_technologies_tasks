{
 "cells": [
  {
   "cell_type": "code",
   "execution_count": null,
   "id": "efb7ab54-2795-4844-91b7-8012b2577063",
   "metadata": {},
   "outputs": [],
   "source": [
    "'''\n",
    "Task 2: Generating and printing simple number patterns. \n",
    "\n",
    "Objective:Using loops to generate a structured number pattern.\n",
    "\n",
    "Steps:\n",
    "1. Select a number pattern type (e.g.,pyramid).\n",
    "2.Developing a program to generate the selected pattern.\n",
    "3.Using loops to control the structure of the pattern.\n",
    "4.Verifying the correctness of the generated pattern\n",
    "'''"
   ]
  },
  {
   "cell_type": "code",
   "execution_count": 4,
   "id": "d0177706-b912-4faa-9b6d-4e5762d6f15f",
   "metadata": {},
   "outputs": [
    {
     "name": "stdout",
     "output_type": "stream",
     "text": [
      "    1 \n",
      "   1 2 \n",
      "  1 2 3 \n",
      " 1 2 3 4 \n",
      "1 2 3 4 5 \n"
     ]
    }
   ],
   "source": [
    "#step 1:- creating a pyramid pattern, we are using numbers such as 1,2,3etc..\n",
    "\n",
    "#step2: We  are using Python with nested loops to print the pattern.\n",
    "\n",
    " #step3: Defining the height of the pyramid\n",
    "h = 5        # h stands for height (total number of rows)\n",
    "\n",
    "for i in range(1, h + 1):             #i represents the current row\n",
    "# Printing spaces before numbers \n",
    "# (h - i) spaces to center\n",
    "    for space in range(h - i):\n",
    "        print(' ', end='')\n",
    "# Printing numbers in each row\n",
    "    for j in range(1, i + 1):         #j represents the current column\n",
    "        print(j, end=' ')\n",
    "\n",
    "    # Moving to the next line after each row\n",
    "    print()\n",
    "\n",
    "        \n"
   ]
  },
  {
   "cell_type": "code",
   "execution_count": null,
   "id": "040dd607-f847-4cf4-adc1-cfdc9bb88bd1",
   "metadata": {},
   "outputs": [],
   "source": []
  },
  {
   "cell_type": "code",
   "execution_count": null,
   "id": "e3358898-d9e9-4a7d-a754-f59805e6d86c",
   "metadata": {},
   "outputs": [],
   "source": []
  },
  {
   "cell_type": "code",
   "execution_count": null,
   "id": "c7cdaba3-bcf3-41f3-a763-704e8f4bf122",
   "metadata": {},
   "outputs": [],
   "source": []
  },
  {
   "cell_type": "code",
   "execution_count": null,
   "id": "38c0a93d-3616-4647-9f75-e767e131802c",
   "metadata": {},
   "outputs": [],
   "source": []
  },
  {
   "cell_type": "code",
   "execution_count": null,
   "id": "08501c13-f773-4e67-87e6-1b58fef98d1c",
   "metadata": {},
   "outputs": [],
   "source": []
  },
  {
   "cell_type": "code",
   "execution_count": null,
   "id": "afd8d074-4177-462c-b423-e6a42c478e21",
   "metadata": {},
   "outputs": [],
   "source": []
  },
  {
   "cell_type": "code",
   "execution_count": null,
   "id": "cbcde700-d7a1-45ea-ab7d-3ac41113c96e",
   "metadata": {},
   "outputs": [],
   "source": []
  },
  {
   "cell_type": "code",
   "execution_count": null,
   "id": "a79dc211-23d3-4ca8-aa6e-7f33957a4bf9",
   "metadata": {},
   "outputs": [],
   "source": []
  },
  {
   "cell_type": "code",
   "execution_count": null,
   "id": "3e66aa45-1ac4-45f6-988e-43e1fb184de5",
   "metadata": {},
   "outputs": [],
   "source": []
  },
  {
   "cell_type": "code",
   "execution_count": null,
   "id": "9d7eedbb-c6df-4e4c-8dba-d0ca0cadd4a3",
   "metadata": {},
   "outputs": [],
   "source": []
  },
  {
   "cell_type": "code",
   "execution_count": null,
   "id": "01286a26-d5b6-4f77-889f-6e14c7df5d42",
   "metadata": {},
   "outputs": [],
   "source": []
  },
  {
   "cell_type": "code",
   "execution_count": null,
   "id": "e6dfa0de-09ac-4abb-9ed4-b7a65ec5c777",
   "metadata": {},
   "outputs": [],
   "source": []
  }
 ],
 "metadata": {
  "kernelspec": {
   "display_name": "Python 3 (ipykernel)",
   "language": "python",
   "name": "python3"
  },
  "language_info": {
   "codemirror_mode": {
    "name": "ipython",
    "version": 3
   },
   "file_extension": ".py",
   "mimetype": "text/x-python",
   "name": "python",
   "nbconvert_exporter": "python",
   "pygments_lexer": "ipython3",
   "version": "3.12.7"
  }
 },
 "nbformat": 4,
 "nbformat_minor": 5
}
