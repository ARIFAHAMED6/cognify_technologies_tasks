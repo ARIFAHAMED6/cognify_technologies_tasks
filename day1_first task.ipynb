{
 "cells": [
  {
   "cell_type": "code",
   "execution_count": null,
   "id": "042d469a-f22b-4b3c-a16f-fb29f4a6d517",
   "metadata": {},
   "outputs": [],
   "source": [
    "'''\n",
    "Task 1: Developing a basic \n",
    "text-based game.\n",
    "\n",
    " Objective: Implementing a simple game using\n",
    " conditional statements for game logic.\n",
    " \n",
    " Steps:\n",
    "1.Choosing a game is to guess numbers randomly.\n",
    "2.the game rules and logic are explain during program and i will metion it as a comment.\n",
    "3.Using conditional statements to manage game flow.\n",
    "4.Test and debuging the game for correctness.\n",
    " '''"
   ]
  },
  {
   "cell_type": "code",
   "execution_count": 7,
   "id": "84df7aa7-0c43-4223-91a6-5e3a111bac4a",
   "metadata": {},
   "outputs": [
    {
     "name": "stdin",
     "output_type": "stream",
     "text": [
      "guess number 9\n"
     ]
    },
    {
     "name": "stdout",
     "output_type": "stream",
     "text": [
      "you lost the game\n"
     ]
    },
    {
     "name": "stdin",
     "output_type": "stream",
     "text": [
      "guess number 3\n"
     ]
    },
    {
     "name": "stdout",
     "output_type": "stream",
     "text": [
      "you lost the game\n"
     ]
    },
    {
     "name": "stdin",
     "output_type": "stream",
     "text": [
      "guess number 1\n"
     ]
    },
    {
     "name": "stdout",
     "output_type": "stream",
     "text": [
      "you lost the game\n",
      "you lost the game\n",
      "game over\n"
     ]
    }
   ],
   "source": [
    "# random is a predefined program\n",
    "import random\n",
    "fix=random.randint(1,9)    # it will take any one number randomly from 1to9\n",
    "i=1\n",
    "while i<=3:      # we have three chances to guess the random number\n",
    "    guess=int(input(\"guess number\"))\n",
    "\n",
    "    if fix==guess:\n",
    "      print(\"you won the game\")\n",
    "    \n",
    "    else:\n",
    "      print(\"you lost the game\")\n",
    "    i=i+1    #the loop will be going on untill while condition is true\n",
    "else:\n",
    "    print(\"you lost the game\")\n",
    "print(\"game over\")\n",
    "    "
   ]
  },
  {
   "cell_type": "code",
   "execution_count": null,
   "id": "6c20c7fe-96fa-468f-95d8-3b122da21ce1",
   "metadata": {},
   "outputs": [],
   "source": []
  },
  {
   "cell_type": "code",
   "execution_count": null,
   "id": "bd4347fe-a35f-450d-9154-8635fdc830fb",
   "metadata": {},
   "outputs": [],
   "source": []
  },
  {
   "cell_type": "code",
   "execution_count": null,
   "id": "9fd56c01-bec3-4228-a2f7-caa1893b811f",
   "metadata": {},
   "outputs": [],
   "source": []
  },
  {
   "cell_type": "code",
   "execution_count": null,
   "id": "f8315776-4349-41d0-b626-52b00f77404c",
   "metadata": {},
   "outputs": [],
   "source": []
  },
  {
   "cell_type": "code",
   "execution_count": null,
   "id": "2da813fb-b573-4190-b6b7-f46f096ab752",
   "metadata": {},
   "outputs": [],
   "source": []
  },
  {
   "cell_type": "code",
   "execution_count": null,
   "id": "73b21c1c-c35d-4828-85a4-1e69ee9f9d94",
   "metadata": {},
   "outputs": [],
   "source": []
  }
 ],
 "metadata": {
  "kernelspec": {
   "display_name": "Python 3 (ipykernel)",
   "language": "python",
   "name": "python3"
  },
  "language_info": {
   "codemirror_mode": {
    "name": "ipython",
    "version": 3
   },
   "file_extension": ".py",
   "mimetype": "text/x-python",
   "name": "python",
   "nbconvert_exporter": "python",
   "pygments_lexer": "ipython3",
   "version": "3.12.7"
  }
 },
 "nbformat": 4,
 "nbformat_minor": 5
}
